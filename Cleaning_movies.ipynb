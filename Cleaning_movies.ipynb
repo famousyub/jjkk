{
  "cells": [
    {
      "cell_type": "code",
      "execution_count": 1,
      "metadata": {
        "id": "RNeUdmUWOkXK"
      },
      "outputs": [
        {
          "ename": "ModuleNotFoundError",
          "evalue": "No module named 'pandas'",
          "output_type": "error",
          "traceback": [
            "\u001b[1;31m---------------------------------------------------------------------------\u001b[0m",
            "\u001b[1;31mModuleNotFoundError\u001b[0m                       Traceback (most recent call last)",
            "\u001b[1;32m~\\AppData\\Local\\Temp\\ipykernel_2676\\4080736814.py\u001b[0m in \u001b[0;36m<module>\u001b[1;34m\u001b[0m\n\u001b[1;32m----> 1\u001b[1;33m \u001b[1;32mimport\u001b[0m \u001b[0mpandas\u001b[0m \u001b[1;32mas\u001b[0m \u001b[0mpd\u001b[0m\u001b[1;33m\u001b[0m\u001b[1;33m\u001b[0m\u001b[0m\n\u001b[0m",
            "\u001b[1;31mModuleNotFoundError\u001b[0m: No module named 'pandas'"
          ]
        }
      ],
      "source": [
        "import pandas as pd"
      ]
    },
    {
      "cell_type": "code",
      "execution_count": 19,
      "metadata": {
        "colab": {
          "base_uri": "https://localhost:8080/",
          "height": 165
        },
        "id": "H5Z8AJpkOtx5",
        "outputId": "513cc02f-1359-460b-ad0b-e482e70368b2"
      },
      "outputs": [
        {
          "name": "stdout",
          "output_type": "stream",
          "text": [
            "['commentsandrate.csv', 'imdbdataset.csv']\n"
          ]
        }
      ],
      "source": [
        "\n",
        "import os \n",
        "\n",
        "cwd  = os.getcwd()\n",
        "\n",
        "lk = os.listdir(cwd)\n",
        "\n",
        "lk = [i for i in lk   if i.endswith(\".csv\")]\n",
        "\n",
        "print(lk)\n",
        "\n",
        "import time \n",
        "time.sleep(2)\n",
        "\n",
        "df = pd.read_excel('./spider.xlsx')"
      ]
    },
    {
      "cell_type": "code",
      "execution_count": 20,
      "metadata": {
        "colab": {
          "base_uri": "https://localhost:8080/"
        },
        "id": "VATIRazlOt0o",
        "outputId": "912bb059-0c89-4694-c03d-dd5ed2d9304c"
      },
      "outputs": [
        {
          "data": {
            "text/html": [
              "<div>\n",
              "<style scoped>\n",
              "    .dataframe tbody tr th:only-of-type {\n",
              "        vertical-align: middle;\n",
              "    }\n",
              "\n",
              "    .dataframe tbody tr th {\n",
              "        vertical-align: top;\n",
              "    }\n",
              "\n",
              "    .dataframe thead th {\n",
              "        text-align: right;\n",
              "    }\n",
              "</style>\n",
              "<table border=\"1\" class=\"dataframe\">\n",
              "  <thead>\n",
              "    <tr style=\"text-align: right;\">\n",
              "      <th></th>\n",
              "      <th>Titre</th>\n",
              "      <th>Text</th>\n",
              "    </tr>\n",
              "  </thead>\n",
              "  <tbody>\n",
              "    <tr>\n",
              "      <th>0</th>\n",
              "      <td>Iconic, Electrifying, Classy, Vibrant, and Em...</td>\n",
              "      <td>The world of movie superheroes began with Supe...</td>\n",
              "    </tr>\n",
              "    <tr>\n",
              "      <th>1</th>\n",
              "      <td>Spider-Man (2002) - With Great Power Comes Gr...</td>\n",
              "      <td>Considered as one of the most successful super...</td>\n",
              "    </tr>\n",
              "    <tr>\n",
              "      <th>2</th>\n",
              "      <td>One of the best movies of the year!!!\\n</td>\n",
              "      <td>Spider-Man is seriously the best movie of the ...</td>\n",
              "    </tr>\n",
              "    <tr>\n",
              "      <th>3</th>\n",
              "      <td>Way better than the recent reboots\\n</td>\n",
              "      <td>Really good movie, I enjoyed the whole Trilogy...</td>\n",
              "    </tr>\n",
              "    <tr>\n",
              "      <th>4</th>\n",
              "      <td>Pre MCU\\n</td>\n",
              "      <td>Before the Marvel Cinematic Universe was launc...</td>\n",
              "    </tr>\n",
              "    <tr>\n",
              "      <th>...</th>\n",
              "      <td>...</td>\n",
              "      <td>...</td>\n",
              "    </tr>\n",
              "    <tr>\n",
              "      <th>145</th>\n",
              "      <td>So good!\\n</td>\n",
              "      <td>This Spider-Man series is definitely the best ...</td>\n",
              "    </tr>\n",
              "    <tr>\n",
              "      <th>146</th>\n",
              "      <td>No One Remembers the 1970's Nicholas Hammond ...</td>\n",
              "      <td>My brothers and I never could figure out why s...</td>\n",
              "    </tr>\n",
              "    <tr>\n",
              "      <th>147</th>\n",
              "      <td>Amazing Spider-Man\\n</td>\n",
              "      <td>I don't have much to say about this over what'...</td>\n",
              "    </tr>\n",
              "    <tr>\n",
              "      <th>148</th>\n",
              "      <td>The origin of Spiderman\\n</td>\n",
              "      <td>This movie was really awesome I remember watch...</td>\n",
              "    </tr>\n",
              "    <tr>\n",
              "      <th>149</th>\n",
              "      <td>I really like this film\\n</td>\n",
              "      <td>Willem Dafoe is really a good actor and Toby M...</td>\n",
              "    </tr>\n",
              "  </tbody>\n",
              "</table>\n",
              "<p>150 rows × 2 columns</p>\n",
              "</div>"
            ],
            "text/plain": [
              "                                                 Titre  \\\n",
              "0     Iconic, Electrifying, Classy, Vibrant, and Em...   \n",
              "1     Spider-Man (2002) - With Great Power Comes Gr...   \n",
              "2              One of the best movies of the year!!!\\n   \n",
              "3                 Way better than the recent reboots\\n   \n",
              "4                                            Pre MCU\\n   \n",
              "..                                                 ...   \n",
              "145                                         So good!\\n   \n",
              "146   No One Remembers the 1970's Nicholas Hammond ...   \n",
              "147                               Amazing Spider-Man\\n   \n",
              "148                          The origin of Spiderman\\n   \n",
              "149                          I really like this film\\n   \n",
              "\n",
              "                                                  Text  \n",
              "0    The world of movie superheroes began with Supe...  \n",
              "1    Considered as one of the most successful super...  \n",
              "2    Spider-Man is seriously the best movie of the ...  \n",
              "3    Really good movie, I enjoyed the whole Trilogy...  \n",
              "4    Before the Marvel Cinematic Universe was launc...  \n",
              "..                                                 ...  \n",
              "145  This Spider-Man series is definitely the best ...  \n",
              "146  My brothers and I never could figure out why s...  \n",
              "147  I don't have much to say about this over what'...  \n",
              "148  This movie was really awesome I remember watch...  \n",
              "149  Willem Dafoe is really a good actor and Toby M...  \n",
              "\n",
              "[150 rows x 2 columns]"
            ]
          },
          "execution_count": 20,
          "metadata": {},
          "output_type": "execute_result"
        }
      ],
      "source": [
        "df\n",
        "df.head()\n",
        "df"
      ]
    },
    {
      "cell_type": "code",
      "execution_count": 21,
      "metadata": {
        "id": "y9UQqtdWOt6n"
      },
      "outputs": [],
      "source": [
        "# step 1: removing html tags\n",
        "\n",
        "import re #pacakage qui contient les deux fonctions\n",
        "def remove_html(text): #fonction qui s'appelle remove_html\n",
        "    text = str(text)\n",
        "    clean = re.compile('<.*?>') #supprime tous les catactéres spéciaux ente les deux <>\n",
        "    #c'est une liste qui contient tous les mots html\n",
        "    return re.sub(clean, '', text)"
      ]
    },
    {
      "cell_type": "code",
      "execution_count": 22,
      "metadata": {
        "id": "gL3U2hvlOt_3"
      },
      "outputs": [],
      "source": [
        "df['Text'] = df['Text'].apply(remove_html)"
      ]
    },
    {
      "cell_type": "code",
      "execution_count": 23,
      "metadata": {
        "colab": {
          "base_uri": "https://localhost:8080/"
        },
        "id": "kP6yzC3nOuDB",
        "outputId": "f9d4313f-f736-4195-c459-d13fd73bb38e"
      },
      "outputs": [
        {
          "data": {
            "text/plain": [
              "0      The world of movie superheroes began with Supe...\n",
              "1      Considered as one of the most successful super...\n",
              "2      Spider-Man is seriously the best movie of the ...\n",
              "3      Really good movie, I enjoyed the whole Trilogy...\n",
              "4      Before the Marvel Cinematic Universe was launc...\n",
              "                             ...                        \n",
              "145    This Spider-Man series is definitely the best ...\n",
              "146    My brothers and I never could figure out why s...\n",
              "147    I don't have much to say about this over what'...\n",
              "148    This movie was really awesome I remember watch...\n",
              "149    Willem Dafoe is really a good actor and Toby M...\n",
              "Name: Text, Length: 150, dtype: object"
            ]
          },
          "execution_count": 23,
          "metadata": {},
          "output_type": "execute_result"
        }
      ],
      "source": [
        "df['Text'] "
      ]
    },
    {
      "cell_type": "code",
      "execution_count": 8,
      "metadata": {
        "id": "RWbhf7RKOuLA"
      },
      "outputs": [],
      "source": [
        "#step 2: converting to lowercase\n",
        "\n",
        "def lower_text(text):\n",
        "    \n",
        "    if(type(text)  ==  type('str')):\n",
        "        return text.lower() #lower c'est une fonction prédifinie\n",
        "    return str(text)\n"
      ]
    },
    {
      "cell_type": "code",
      "execution_count": 9,
      "metadata": {
        "id": "NtMoEkNhOuNv"
      },
      "outputs": [],
      "source": [
        "df['review'] = df['review'].apply(lower_text)"
      ]
    },
    {
      "cell_type": "code",
      "execution_count": 10,
      "metadata": {
        "colab": {
          "base_uri": "https://localhost:8080/",
          "height": 424
        },
        "id": "MKgyGsXEOuQt",
        "outputId": "8c5110e4-b699-4e9a-b650-53a8eddd4a2d"
      },
      "outputs": [
        {
          "data": {
            "text/plain": [
              "0        one of the other reviewers has mentioned that ...\n",
              "1        a wonderful little production. the filming tec...\n",
              "2        i thought this was a wonderful way to spend ti...\n",
              "3        basically there's a family where a little boy ...\n",
              "4        petter mattei's \"love in the time of money\" is...\n",
              "                               ...                        \n",
              "49995    i thought this movie did a down right good job...\n",
              "49996    bad plot, bad dialogue, bad acting, idiotic di...\n",
              "49997    i am a catholic taught in parochial elementary...\n",
              "49998    i'm going to have to disagree with the previou...\n",
              "49999    no one expects the star trek movies to be high...\n",
              "Name: review, Length: 50000, dtype: object"
            ]
          },
          "execution_count": 10,
          "metadata": {},
          "output_type": "execute_result"
        }
      ],
      "source": [
        "df[\"review\"]"
      ]
    },
    {
      "cell_type": "code",
      "execution_count": 16,
      "metadata": {
        "id": "49fv0PWBOugF"
      },
      "outputs": [],
      "source": [
        "#step 3: removing special characters\n",
        "#text= az2ssx%VH/JBJH\n",
        "\n",
        "def remove_special_char(text):\n",
        "    x = \"\"\n",
        "\n",
        "    for i in text:\n",
        "        if i.isalnum():\n",
        "            x = x+i\n",
        "        else:\n",
        "            x = x+ \" \"\n",
        "    return x"
      ]
    },
    {
      "cell_type": "code",
      "execution_count": 17,
      "metadata": {
        "id": "moIFL6JWPTv9"
      },
      "outputs": [],
      "source": [
        "df['review'] = df['review'].apply(remove_special_char)"
      ]
    },
    {
      "cell_type": "code",
      "execution_count": 18,
      "metadata": {
        "colab": {
          "base_uri": "https://localhost:8080/"
        },
        "id": "7ykQIFLEPTzo",
        "outputId": "6bca25aa-504e-4a70-f415-b7519fd27bf1"
      },
      "outputs": [
        {
          "data": {
            "text/html": [
              "<div>\n",
              "<style scoped>\n",
              "    .dataframe tbody tr th:only-of-type {\n",
              "        vertical-align: middle;\n",
              "    }\n",
              "\n",
              "    .dataframe tbody tr th {\n",
              "        vertical-align: top;\n",
              "    }\n",
              "\n",
              "    .dataframe thead th {\n",
              "        text-align: right;\n",
              "    }\n",
              "</style>\n",
              "<table border=\"1\" class=\"dataframe\">\n",
              "  <thead>\n",
              "    <tr style=\"text-align: right;\">\n",
              "      <th></th>\n",
              "      <th>review</th>\n",
              "      <th>sentiment</th>\n",
              "    </tr>\n",
              "  </thead>\n",
              "  <tbody>\n",
              "    <tr>\n",
              "      <th>0</th>\n",
              "      <td>one of the other reviewers has mentioned that ...</td>\n",
              "      <td>positive</td>\n",
              "    </tr>\n",
              "    <tr>\n",
              "      <th>1</th>\n",
              "      <td>a wonderful little production  the filming tec...</td>\n",
              "      <td>positive</td>\n",
              "    </tr>\n",
              "    <tr>\n",
              "      <th>2</th>\n",
              "      <td>i thought this was a wonderful way to spend ti...</td>\n",
              "      <td>positive</td>\n",
              "    </tr>\n",
              "    <tr>\n",
              "      <th>3</th>\n",
              "      <td>basically there s a family where a little boy ...</td>\n",
              "      <td>negative</td>\n",
              "    </tr>\n",
              "    <tr>\n",
              "      <th>4</th>\n",
              "      <td>petter mattei s  love in the time of money  is...</td>\n",
              "      <td>positive</td>\n",
              "    </tr>\n",
              "    <tr>\n",
              "      <th>...</th>\n",
              "      <td>...</td>\n",
              "      <td>...</td>\n",
              "    </tr>\n",
              "    <tr>\n",
              "      <th>49995</th>\n",
              "      <td>i thought this movie did a down right good job...</td>\n",
              "      <td>positive</td>\n",
              "    </tr>\n",
              "    <tr>\n",
              "      <th>49996</th>\n",
              "      <td>bad plot  bad dialogue  bad acting  idiotic di...</td>\n",
              "      <td>negative</td>\n",
              "    </tr>\n",
              "    <tr>\n",
              "      <th>49997</th>\n",
              "      <td>i am a catholic taught in parochial elementary...</td>\n",
              "      <td>negative</td>\n",
              "    </tr>\n",
              "    <tr>\n",
              "      <th>49998</th>\n",
              "      <td>i m going to have to disagree with the previou...</td>\n",
              "      <td>negative</td>\n",
              "    </tr>\n",
              "    <tr>\n",
              "      <th>49999</th>\n",
              "      <td>no one expects the star trek movies to be high...</td>\n",
              "      <td>negative</td>\n",
              "    </tr>\n",
              "  </tbody>\n",
              "</table>\n",
              "<p>50000 rows × 2 columns</p>\n",
              "</div>"
            ],
            "text/plain": [
              "                                                  review sentiment\n",
              "0      one of the other reviewers has mentioned that ...  positive\n",
              "1      a wonderful little production  the filming tec...  positive\n",
              "2      i thought this was a wonderful way to spend ti...  positive\n",
              "3      basically there s a family where a little boy ...  negative\n",
              "4      petter mattei s  love in the time of money  is...  positive\n",
              "...                                                  ...       ...\n",
              "49995  i thought this movie did a down right good job...  positive\n",
              "49996  bad plot  bad dialogue  bad acting  idiotic di...  negative\n",
              "49997  i am a catholic taught in parochial elementary...  negative\n",
              "49998  i m going to have to disagree with the previou...  negative\n",
              "49999  no one expects the star trek movies to be high...  negative\n",
              "\n",
              "[50000 rows x 2 columns]"
            ]
          },
          "execution_count": 18,
          "metadata": {},
          "output_type": "execute_result"
        }
      ],
      "source": [
        "df"
      ]
    },
    {
      "cell_type": "code",
      "execution_count": 19,
      "metadata": {
        "colab": {
          "base_uri": "https://localhost:8080/"
        },
        "id": "9VFjxXHoPT2T",
        "outputId": "cdd971b8-988f-4ee9-e41b-780b248184a3"
      },
      "outputs": [
        {
          "name": "stdout",
          "output_type": "stream",
          "text": [
            "Requirement already satisfied: nltk in c:\\users\\maison info\\desktop\\webscrapping20\\uyioo-main\\env\\lib\\site-packages (3.8.1)"
          ]
        },
        {
          "name": "stderr",
          "output_type": "stream",
          "text": [
            "\n",
            "[notice] A new release of pip is available: 23.1.2 -> 23.2\n",
            "[notice] To update, run: python.exe -m pip install --upgrade pip\n"
          ]
        },
        {
          "name": "stdout",
          "output_type": "stream",
          "text": [
            "\n",
            "Requirement already satisfied: click in c:\\users\\maison info\\desktop\\webscrapping20\\uyioo-main\\env\\lib\\site-packages (from nltk) (8.1.6)\n",
            "Requirement already satisfied: joblib in c:\\users\\maison info\\desktop\\webscrapping20\\uyioo-main\\env\\lib\\site-packages (from nltk) (1.3.1)\n",
            "Requirement already satisfied: regex>=2021.8.3 in c:\\users\\maison info\\desktop\\webscrapping20\\uyioo-main\\env\\lib\\site-packages (from nltk) (2023.6.3)\n",
            "Requirement already satisfied: tqdm in c:\\users\\maison info\\desktop\\webscrapping20\\uyioo-main\\env\\lib\\site-packages (from nltk) (4.65.0)\n",
            "Requirement already satisfied: colorama in c:\\users\\maison info\\desktop\\webscrapping20\\uyioo-main\\env\\lib\\site-packages (from click->nltk) (0.4.6)\n"
          ]
        }
      ],
      "source": [
        "#step 4: removing stop words example is, are, am etc\n",
        "! pip install  -U nltk\n",
        "\n"
      ]
    },
    {
      "cell_type": "code",
      "execution_count": 20,
      "metadata": {},
      "outputs": [
        {
          "name": "stderr",
          "output_type": "stream",
          "text": [
            "[nltk_data] Downloading package stopwords to C:\\Users\\maison\n",
            "[nltk_data]     info\\AppData\\Roaming\\nltk_data...\n",
            "[nltk_data]   Package stopwords is already up-to-date!\n"
          ]
        },
        {
          "data": {
            "text/plain": [
              "True"
            ]
          },
          "execution_count": 20,
          "metadata": {},
          "output_type": "execute_result"
        }
      ],
      "source": [
        "import nltk\n",
        "from nltk.corpus import stopwords\n",
        "nltk.download('stopwords')"
      ]
    },
    {
      "cell_type": "code",
      "execution_count": 21,
      "metadata": {
        "id": "x9SzeQ-OPT5L"
      },
      "outputs": [],
      "source": [
        "def remove_stopwords(text):\n",
        "    x = []\n",
        "    for i in text.split(): #return une liste qui contient des mots séparé par espace\n",
        "        if i not in stopwords.words(\"english\"):\n",
        "            x.append(i)\n",
        "    y = x[:]\n",
        "    x.clear()\n",
        "    return y"
      ]
    },
    {
      "cell_type": "code",
      "execution_count": 22,
      "metadata": {
        "id": "HYhO-pMPPT8D"
      },
      "outputs": [],
      "source": [
        "df['review'] = df['review'].apply(remove_stopwords)"
      ]
    },
    {
      "cell_type": "code",
      "execution_count": 23,
      "metadata": {
        "colab": {
          "base_uri": "https://localhost:8080/"
        },
        "id": "8qM4vS8APUCC",
        "outputId": "baa15418-ee76-49fc-f22d-e05bbe9bc2bd"
      },
      "outputs": [
        {
          "data": {
            "text/plain": [
              "0        [one, reviewers, mentioned, watching, 1, oz, e...\n",
              "1        [wonderful, little, production, filming, techn...\n",
              "2        [thought, wonderful, way, spend, time, hot, su...\n",
              "3        [basically, family, little, boy, jake, thinks,...\n",
              "4        [petter, mattei, love, time, money, visually, ...\n",
              "                               ...                        \n",
              "49995    [thought, movie, right, good, job, creative, o...\n",
              "49996    [bad, plot, bad, dialogue, bad, acting, idioti...\n",
              "49997    [catholic, taught, parochial, elementary, scho...\n",
              "49998    [going, disagree, previous, comment, side, mal...\n",
              "49999    [one, expects, star, trek, movies, high, art, ...\n",
              "Name: review, Length: 50000, dtype: object"
            ]
          },
          "execution_count": 23,
          "metadata": {},
          "output_type": "execute_result"
        }
      ],
      "source": [
        "df['review'] \n"
      ]
    },
    {
      "cell_type": "code",
      "execution_count": null,
      "metadata": {},
      "outputs": [],
      "source": []
    },
    {
      "cell_type": "code",
      "execution_count": 24,
      "metadata": {
        "id": "1AaqooN9PUE4"
      },
      "outputs": [],
      "source": [
        "#step 5: stemming\n",
        "\n",
        "from nltk.stem.porter import PorterStemmer"
      ]
    },
    {
      "cell_type": "code",
      "execution_count": 25,
      "metadata": {
        "id": "cRllZSkePUJ3"
      },
      "outputs": [],
      "source": [
        "ps = PorterStemmer()"
      ]
    },
    {
      "cell_type": "code",
      "execution_count": 26,
      "metadata": {
        "id": "YlbXuNSrPUb4"
      },
      "outputs": [],
      "source": [
        "y = []\n",
        "def stemming_text(text):\n",
        "    for i in text:\n",
        "        y.append(ps.stem(i))\n",
        "    z = y[:]\n",
        "    y.clear()\n",
        "    return z"
      ]
    },
    {
      "cell_type": "code",
      "execution_count": 27,
      "metadata": {
        "id": "LwzcHR28PUe-"
      },
      "outputs": [],
      "source": [
        "df['review'] = df['review'].apply(stemming_text)"
      ]
    },
    {
      "cell_type": "code",
      "execution_count": 28,
      "metadata": {
        "colab": {
          "base_uri": "https://localhost:8080/"
        },
        "id": "RrVn3sZbPUiQ",
        "outputId": "7f853237-0a7b-48b5-8e01-d7c906b94500"
      },
      "outputs": [
        {
          "data": {
            "text/plain": [
              "0        [one, review, mention, watch, 1, oz, episod, h...\n",
              "1        [wonder, littl, product, film, techniqu, unass...\n",
              "2        [thought, wonder, way, spend, time, hot, summe...\n",
              "3        [basic, famili, littl, boy, jake, think, zombi...\n",
              "4        [petter, mattei, love, time, money, visual, st...\n",
              "                               ...                        \n",
              "49995    [thought, movi, right, good, job, creativ, ori...\n",
              "49996    [bad, plot, bad, dialogu, bad, act, idiot, dir...\n",
              "49997    [cathol, taught, parochi, elementari, school, ...\n",
              "49998    [go, disagre, previou, comment, side, maltin, ...\n",
              "49999    [one, expect, star, trek, movi, high, art, fan...\n",
              "Name: review, Length: 50000, dtype: object"
            ]
          },
          "execution_count": 28,
          "metadata": {},
          "output_type": "execute_result"
        }
      ],
      "source": [
        "df[\"review\"]"
      ]
    },
    {
      "cell_type": "code",
      "execution_count": 29,
      "metadata": {
        "id": "c2is4m1PPUku"
      },
      "outputs": [],
      "source": [
        "def join_back(texts):    #fonction qui conveti la liste en chaine\n",
        "    return \" \".join(texts)"
      ]
    },
    {
      "cell_type": "code",
      "execution_count": 30,
      "metadata": {
        "id": "mPKS40DjPUnU"
      },
      "outputs": [],
      "source": [
        "df['review'] = df['review'].apply(join_back)"
      ]
    },
    {
      "cell_type": "code",
      "execution_count": 31,
      "metadata": {
        "id": "d1SkGV2YPUqc"
      },
      "outputs": [],
      "source": [
        "#step6: Remove any rows with missing data, such as reviews with no text or labels with missing sentiment\n",
        "df.dropna(inplace=True)"
      ]
    },
    {
      "cell_type": "code",
      "execution_count": 66,
      "metadata": {
        "colab": {
          "base_uri": "https://localhost:8080/"
        },
        "id": "B0ioJqdWPUta",
        "outputId": "89ad00a2-3442-46f5-e19e-c2d118e36d12"
      },
      "outputs": [
        {
          "data": {
            "text/plain": [
              "0        one review mention watch 1 oz episod hook righ...\n",
              "1        wonder littl product film techniqu unassum old...\n",
              "2        thought wonder way spend time hot summer weeke...\n",
              "3        basic famili littl boy jake think zombi closet...\n",
              "4        petter mattei love time money visual stun film...\n",
              "                               ...                        \n",
              "49995    thought movi right good job creativ origin fir...\n",
              "49996    bad plot bad dialogu bad act idiot direct anno...\n",
              "49997    cathol taught parochi elementari school nun ta...\n",
              "49998    go disagre previou comment side maltin one sec...\n",
              "49999    one expect star trek movi high art fan expect ...\n",
              "Name: review, Length: 50000, dtype: object"
            ]
          },
          "execution_count": 66,
          "metadata": {},
          "output_type": "execute_result"
        }
      ],
      "source": [
        "df[\"review\"]"
      ]
    },
    {
      "cell_type": "code",
      "execution_count": 32,
      "metadata": {
        "colab": {
          "base_uri": "https://localhost:8080/"
        },
        "id": "T2KAevYPPUwd",
        "outputId": "7440ef0d-1eb8-44c2-946e-72dfa37ec703"
      },
      "outputs": [
        {
          "name": "stdout",
          "output_type": "stream",
          "text": [
            "Number of duplicates: 427\n"
          ]
        }
      ],
      "source": [
        "# Check for duplicates\n",
        "duplicates = df.duplicated()\n",
        "num_duplicates = duplicates.sum()\n",
        "print('Number of duplicates:', num_duplicates)"
      ]
    },
    {
      "cell_type": "code",
      "execution_count": 33,
      "metadata": {
        "id": "kpDzkwlTPU11"
      },
      "outputs": [],
      "source": [
        "#step7: Remove duplicates\n",
        "df = df.drop_duplicates()"
      ]
    },
    {
      "cell_type": "code",
      "execution_count": 34,
      "metadata": {
        "colab": {
          "base_uri": "https://localhost:8080/"
        },
        "id": "1nIwIhCdYMFr",
        "outputId": "adf326c8-5686-4b16-9281-c3bc2e030666"
      },
      "outputs": [
        {
          "name": "stdout",
          "output_type": "stream",
          "text": [
            "Number of duplicates: 0\n"
          ]
        }
      ],
      "source": [
        "# Check for duplicates\n",
        "duplicates = df.duplicated()\n",
        "num_duplicates = duplicates.sum()\n",
        "print('Number of duplicates:', num_duplicates)"
      ]
    },
    {
      "cell_type": "code",
      "execution_count": 35,
      "metadata": {
        "colab": {
          "base_uri": "https://localhost:8080/"
        },
        "id": "ThoM6Uf_YHCR",
        "outputId": "a8ece3a7-3aa0-4c48-ba47-612475500d7b"
      },
      "outputs": [
        {
          "data": {
            "text/plain": [
              "0        one review mention watch 1 oz episod hook righ...\n",
              "1        wonder littl product film techniqu unassum old...\n",
              "2        thought wonder way spend time hot summer weeke...\n",
              "3        basic famili littl boy jake think zombi closet...\n",
              "4        petter mattei love time money visual stun film...\n",
              "                               ...                        \n",
              "49995    thought movi right good job creativ origin fir...\n",
              "49996    bad plot bad dialogu bad act idiot direct anno...\n",
              "49997    cathol taught parochi elementari school nun ta...\n",
              "49998    go disagre previou comment side maltin one sec...\n",
              "49999    one expect star trek movi high art fan expect ...\n",
              "Name: review, Length: 49573, dtype: object"
            ]
          },
          "execution_count": 35,
          "metadata": {},
          "output_type": "execute_result"
        }
      ],
      "source": [
        "df[\"review\"]"
      ]
    },
    {
      "cell_type": "code",
      "execution_count": 36,
      "metadata": {
        "id": "HM3M7zCpPU86"
      },
      "outputs": [],
      "source": [
        "# Save the cleaned dataset to a new CSV file\n",
        "df.to_csv('cleaned_dataset_imdb50k.csv', index=False)"
      ]
    },
    {
      "cell_type": "code",
      "execution_count": 37,
      "metadata": {
        "colab": {
          "base_uri": "https://localhost:8080/"
        },
        "id": "WXxaqnr-PU_T",
        "outputId": "bb214453-9dab-44a8-8629-45451fd5ac18"
      },
      "outputs": [
        {
          "data": {
            "text/plain": [
              "0        one review mention watch 1 oz episod hook righ...\n",
              "1        wonder littl product film techniqu unassum old...\n",
              "2        thought wonder way spend time hot summer weeke...\n",
              "3        basic famili littl boy jake think zombi closet...\n",
              "4        petter mattei love time money visual stun film...\n",
              "                               ...                        \n",
              "49995    thought movi right good job creativ origin fir...\n",
              "49996    bad plot bad dialogu bad act idiot direct anno...\n",
              "49997    cathol taught parochi elementari school nun ta...\n",
              "49998    go disagre previou comment side maltin one sec...\n",
              "49999    one expect star trek movi high art fan expect ...\n",
              "Name: review, Length: 49573, dtype: object"
            ]
          },
          "execution_count": 37,
          "metadata": {},
          "output_type": "execute_result"
        }
      ],
      "source": [
        "df[\"review\"]"
      ]
    },
    {
      "cell_type": "code",
      "execution_count": null,
      "metadata": {
        "id": "aTjuOClDPVBn"
      },
      "outputs": [],
      "source": []
    },
    {
      "cell_type": "code",
      "execution_count": null,
      "metadata": {
        "id": "F8f_DUrhPVEK"
      },
      "outputs": [],
      "source": []
    },
    {
      "cell_type": "code",
      "execution_count": null,
      "metadata": {
        "id": "TNKg0STsPVGk"
      },
      "outputs": [],
      "source": []
    },
    {
      "cell_type": "code",
      "execution_count": null,
      "metadata": {
        "id": "eCyYTS7QPVNV"
      },
      "outputs": [],
      "source": []
    }
  ],
  "metadata": {
    "colab": {
      "provenance": []
    },
    "kernelspec": {
      "display_name": "Python 3",
      "name": "python3"
    },
    "language_info": {
      "codemirror_mode": {
        "name": "ipython",
        "version": 3
      },
      "file_extension": ".py",
      "mimetype": "text/x-python",
      "name": "python",
      "nbconvert_exporter": "python",
      "pygments_lexer": "ipython3",
      "version": "3.7.16"
    }
  },
  "nbformat": 4,
  "nbformat_minor": 0
}
